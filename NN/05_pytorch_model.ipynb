{
 "cells": [
  {
   "cell_type": "code",
   "execution_count": 19,
   "metadata": {},
   "outputs": [],
   "source": [
    "# load vine dataset from scikit-learn\n",
    "import torch \n",
    "from matplotlib import pyplot as plt\n",
    "from sklearn.datasets import load_wine\n",
    "torch.manual_seed(1234)\n",
    "\n",
    "# load dataset\n",
    "data = load_wine()\n",
    "import pandas as pd\n",
    "df=pd.DataFrame(data[\"data\"],columns=data[\"feature_names\"])\n",
    "y=df[\"alcohol\"]\n",
    "x=df.drop(\"alcohol\",axis=1)"
   ]
  },
  {
   "cell_type": "code",
   "execution_count": 20,
   "metadata": {},
   "outputs": [
    {
     "data": {
      "text/html": [
       "<div>\n",
       "<style scoped>\n",
       "    .dataframe tbody tr th:only-of-type {\n",
       "        vertical-align: middle;\n",
       "    }\n",
       "\n",
       "    .dataframe tbody tr th {\n",
       "        vertical-align: top;\n",
       "    }\n",
       "\n",
       "    .dataframe thead th {\n",
       "        text-align: right;\n",
       "    }\n",
       "</style>\n",
       "<table border=\"1\" class=\"dataframe\">\n",
       "  <thead>\n",
       "    <tr style=\"text-align: right;\">\n",
       "      <th></th>\n",
       "      <th>malic_acid</th>\n",
       "      <th>ash</th>\n",
       "      <th>alcalinity_of_ash</th>\n",
       "      <th>magnesium</th>\n",
       "      <th>total_phenols</th>\n",
       "      <th>flavanoids</th>\n",
       "      <th>nonflavanoid_phenols</th>\n",
       "      <th>proanthocyanins</th>\n",
       "      <th>color_intensity</th>\n",
       "      <th>hue</th>\n",
       "      <th>od280/od315_of_diluted_wines</th>\n",
       "      <th>proline</th>\n",
       "    </tr>\n",
       "  </thead>\n",
       "  <tbody>\n",
       "    <tr>\n",
       "      <th>0</th>\n",
       "      <td>-0.562250</td>\n",
       "      <td>0.232053</td>\n",
       "      <td>-1.169593</td>\n",
       "      <td>1.913905</td>\n",
       "      <td>0.808997</td>\n",
       "      <td>1.034819</td>\n",
       "      <td>-0.659563</td>\n",
       "      <td>1.224884</td>\n",
       "      <td>0.251717</td>\n",
       "      <td>0.362177</td>\n",
       "      <td>1.847920</td>\n",
       "      <td>1.013009</td>\n",
       "    </tr>\n",
       "    <tr>\n",
       "      <th>1</th>\n",
       "      <td>-0.499413</td>\n",
       "      <td>-0.827996</td>\n",
       "      <td>-2.490847</td>\n",
       "      <td>0.018145</td>\n",
       "      <td>0.568648</td>\n",
       "      <td>0.733629</td>\n",
       "      <td>-0.820719</td>\n",
       "      <td>-0.544721</td>\n",
       "      <td>-0.293321</td>\n",
       "      <td>0.406051</td>\n",
       "      <td>1.113449</td>\n",
       "      <td>0.965242</td>\n",
       "    </tr>\n",
       "    <tr>\n",
       "      <th>2</th>\n",
       "      <td>0.021231</td>\n",
       "      <td>1.109334</td>\n",
       "      <td>-0.268738</td>\n",
       "      <td>0.088358</td>\n",
       "      <td>0.808997</td>\n",
       "      <td>1.215533</td>\n",
       "      <td>-0.498407</td>\n",
       "      <td>2.135968</td>\n",
       "      <td>0.269020</td>\n",
       "      <td>0.318304</td>\n",
       "      <td>0.788587</td>\n",
       "      <td>1.395148</td>\n",
       "    </tr>\n",
       "    <tr>\n",
       "      <th>3</th>\n",
       "      <td>-0.346811</td>\n",
       "      <td>0.487926</td>\n",
       "      <td>-0.809251</td>\n",
       "      <td>0.930918</td>\n",
       "      <td>2.491446</td>\n",
       "      <td>1.466525</td>\n",
       "      <td>-0.981875</td>\n",
       "      <td>1.032155</td>\n",
       "      <td>1.186068</td>\n",
       "      <td>-0.427544</td>\n",
       "      <td>1.184071</td>\n",
       "      <td>2.334574</td>\n",
       "    </tr>\n",
       "    <tr>\n",
       "      <th>4</th>\n",
       "      <td>0.227694</td>\n",
       "      <td>1.840403</td>\n",
       "      <td>0.451946</td>\n",
       "      <td>1.281985</td>\n",
       "      <td>0.808997</td>\n",
       "      <td>0.663351</td>\n",
       "      <td>0.226796</td>\n",
       "      <td>0.401404</td>\n",
       "      <td>-0.319276</td>\n",
       "      <td>0.362177</td>\n",
       "      <td>0.449601</td>\n",
       "      <td>-0.037874</td>\n",
       "    </tr>\n",
       "  </tbody>\n",
       "</table>\n",
       "</div>"
      ],
      "text/plain": [
       "   malic_acid       ash  alcalinity_of_ash  magnesium  total_phenols  \\\n",
       "0   -0.562250  0.232053          -1.169593   1.913905       0.808997   \n",
       "1   -0.499413 -0.827996          -2.490847   0.018145       0.568648   \n",
       "2    0.021231  1.109334          -0.268738   0.088358       0.808997   \n",
       "3   -0.346811  0.487926          -0.809251   0.930918       2.491446   \n",
       "4    0.227694  1.840403           0.451946   1.281985       0.808997   \n",
       "\n",
       "   flavanoids  nonflavanoid_phenols  proanthocyanins  color_intensity  \\\n",
       "0    1.034819             -0.659563         1.224884         0.251717   \n",
       "1    0.733629             -0.820719        -0.544721        -0.293321   \n",
       "2    1.215533             -0.498407         2.135968         0.269020   \n",
       "3    1.466525             -0.981875         1.032155         1.186068   \n",
       "4    0.663351              0.226796         0.401404        -0.319276   \n",
       "\n",
       "        hue  od280/od315_of_diluted_wines   proline  \n",
       "0  0.362177                      1.847920  1.013009  \n",
       "1  0.406051                      1.113449  0.965242  \n",
       "2  0.318304                      0.788587  1.395148  \n",
       "3 -0.427544                      1.184071  2.334574  \n",
       "4  0.362177                      0.449601 -0.037874  "
      ]
     },
     "execution_count": 20,
     "metadata": {},
     "output_type": "execute_result"
    }
   ],
   "source": [
    "# scale data\n",
    "\n",
    "from sklearn.preprocessing import StandardScaler\n",
    "\n",
    "scaler=StandardScaler()\n",
    "scaler.fit(x)\n",
    "x_scaled=scaler.transform(x)\n",
    "\n",
    "x=pd.DataFrame(x_scaled,columns=x.columns)\n",
    "x.head()"
   ]
  },
  {
   "cell_type": "code",
   "execution_count": 21,
   "metadata": {},
   "outputs": [],
   "source": [
    "\n",
    "from sklearn.model_selection import train_test_split\n",
    "\n",
    "x_train,x_test,y_train,y_test=train_test_split(x,y,test_size=0.2,random_state=1234)\n",
    "x_train_tensor=torch.tensor(x_train.values, dtype=torch.float32)"
   ]
  },
  {
   "cell_type": "code",
   "execution_count": 22,
   "metadata": {},
   "outputs": [],
   "source": [
    "\n",
    "\n",
    "def root_mean_squared_error(y_hat,y):\n",
    "    return torch.sqrt(torch.mean((y_hat-y)**2))\n",
    "\n",
    "# get_batch liefert ein Tupel (x,y) mit x.shape = (batch_size, n_features) und y.shape = (batch_size, 1)\n",
    "# bei batch_size 10 bekommen wir also 10 zufällige Datenpunkte. x.shape ist dann (10, 13) und y.shape (10, 1)\n",
    "def get_batch(x,y,batch_size):\n",
    "    for i in range(0,len(x),batch_size):\n",
    "        # yield: return a generator\n",
    "        yield x[i:i+batch_size],y[i:i+batch_size]"
   ]
  },
  {
   "cell_type": "code",
   "execution_count": 23,
   "metadata": {},
   "outputs": [],
   "source": [
    "class MyModel(torch.nn.Module):    # erbt von torch.nn.Module\n",
    "    def __init__(self):             # Konstruktor\n",
    "        super(MyModel, self).__init__()   # Aufruf des Super-Konstruktors\n",
    "        self.fc1 = torch.nn.Linear(12, 10)    # Fully-Connected-Layer mit 12 Eingangsneuronen und 10 Ausgangsneuronen\n",
    "        self.fc2 = torch.nn.Linear(10, 1)     # Fully-Connected-Layer mit 10 Eingangsneuronen und 1 Ausgangsneuronen\n",
    "        self.batch_norm = torch.nn.BatchNorm1d(10)  # Batch-Normalization-Layer mit 10 Neuronen\n",
    "        self.relu=torch.nn.ReLU()   # ReLU-Aktivierungsfunktion\n",
    "\n",
    "    def forward(self, xb):\n",
    "        xb = self.relu(self.fc1(xb))   # a2\n",
    "        xb = self.batch_norm(xb)  # a2_norm=a2-mean/std\n",
    "        xb = self.fc2(xb)\n",
    "        return xb"
   ]
  },
  {
   "cell_type": "code",
   "execution_count": 24,
   "metadata": {},
   "outputs": [
    {
     "data": {
      "image/png": "[encoded data removed]",
      "text/plain": [
       "<Figure size 640x480 with 1 Axes>"
      ]
     },
     "metadata": {},
     "output_type": "display_data"
    }
   ],
   "source": [
    "lr=0.005\n",
    "wd=0.1\n",
    "batch_size=10\n",
    "torch.manual_seed(1234)\n",
    "\n",
    "epochs=200\n",
    "losses=[]\n",
    "rmse_test=[]\n",
    "hidden_count=20\n",
    "\n",
    "model=MyModel()\n",
    "\n",
    "y_train_tensor=torch.tensor(y_train.values, dtype=torch.float32)\n",
    "x_test_tensor=torch.tensor(x_test.values, dtype=torch.float32)\n",
    "y_test_tensor=torch.tensor(y_test.values, dtype=torch.float32)\n",
    "for i in range(epochs):\n",
    "    losses_in_epoch=[]\n",
    "    # trainiere jeweils mit einer kleinen Auswahl an Daten, der Batch\n",
    "    # xb: ist die Auswahl der Daten für die Inputneuronen\n",
    "    # yb: ist die Auswahl der Daten für die Outputneuronen\n",
    "    for xb,yb in get_batch(x_train_tensor,y_train_tensor,batch_size):\n",
    "        y_hat=model(xb)\n",
    "        loss=root_mean_squared_error(y_hat, yb)\n",
    "        losses_in_epoch.append(loss.item())\n",
    "        loss.backward()\n",
    "        with torch.no_grad():\n",
    "            for param in model.parameters():    # model.parameters() gibt alle Gewichte und Biasse zurück (w1, w2, b1, etc.)\n",
    "                param.sub_(lr*param.grad)\n",
    "            model.zero_grad()\n",
    "    losses.append(sum(losses_in_epoch)/len(losses_in_epoch))\n",
    "    y_test_hat=model(x_test_tensor)\n",
    "    y_test_rmse=root_mean_squared_error(y_test_hat, y_test_tensor)\n",
    "    rmse_test.append(y_test_rmse.item())\n",
    "\n",
    "plt.plot(range(epochs),losses, color=\"blue\")\n",
    "plt.plot(range(epochs),rmse_test, color=\"red\")\n",
    "plt.legend([\"loss\", \"rmse_test\"])\n",
    "plt.show()\n"
   ]
  },
  {
   "cell_type": "code",
   "execution_count": 26,
   "metadata": {},
   "outputs": [
    {
     "data": {
      "text/plain": [
       "0.9546778798103333"
      ]
     },
     "execution_count": 26,
     "metadata": {},
     "output_type": "execute_result"
    }
   ],
   "source": [
    "y_test_hat=model(x_test_tensor)\n",
    "rmse_test=root_mean_squared_error(y_test_hat, y_test_tensor)\n",
    "rmse_test.item()"
   ]
  },
  {
   "cell_type": "code",
   "execution_count": 27,
   "metadata": {},
   "outputs": [
    {
     "data": {
      "text/plain": [
       "0.8471090793609619"
      ]
     },
     "execution_count": 27,
     "metadata": {},
     "output_type": "execute_result"
    }
   ],
   "source": [
    "y_train_hat=model(x_train_tensor)\n",
    "rmse_train=root_mean_squared_error(y_train_hat, y_train_tensor)\n",
    "rmse_train.item()\n"
   ]
  },
  {
   "cell_type": "code",
   "execution_count": null,
   "metadata": {},
   "outputs": [
    {
     "data": {
      "text/plain": [
       "tensor([[13.4951],\n",
       "        [12.6127],\n",
       "        [11.4039],\n",
       "        [11.0478],\n",
       "        [11.7492],\n",
       "        [11.5418],\n",
       "        [12.6397],\n",
       "        [10.4759],\n",
       "        [14.6141],\n",
       "        [12.3688],\n",
       "        [11.1082],\n",
       "        [14.0239],\n",
       "        [12.4024],\n",
       "        [10.6053],\n",
       "        [13.2999],\n",
       "        [12.7558],\n",
       "        [12.1297],\n",
       "        [14.2607],\n",
       "        [11.6580],\n",
       "        [13.4702],\n",
       "        [10.2010],\n",
       "        [16.4443],\n",
       "        [13.0881],\n",
       "        [13.0974],\n",
       "        [12.2605],\n",
       "        [13.0210],\n",
       "        [14.9859],\n",
       "        [13.7521],\n",
       "        [12.1709],\n",
       "        [13.1148],\n",
       "        [11.4918],\n",
       "        [10.3545],\n",
       "        [14.2391],\n",
       "        [11.0114],\n",
       "        [16.2933],\n",
       "        [11.6910]], grad_fn=<MaximumBackward0>)"
      ]
     },
     "execution_count": 8,
     "metadata": {},
     "output_type": "execute_result"
    }
   ],
   "source": [
    "y_test_hat"
   ]
  },
  {
   "cell_type": "markdown",
   "metadata": {},
   "source": []
  },
  {
   "cell_type": "markdown",
   "metadata": {},
   "source": []
  },
  {
   "cell_type": "markdown",
   "metadata": {},
   "source": []
  }
 ],
 "metadata": {
  "kernelspec": {
   "display_name": "torch_ds",
   "language": "python",
   "name": "python3"
  },
  "language_info": {
   "codemirror_mode": {
    "name": "ipython",
    "version": 3
   },
   "file_extension": ".py",
   "mimetype": "text/x-python",
   "name": "python",
   "nbconvert_exporter": "python",
   "pygments_lexer": "ipython3",
   "version": "3.10.8"
  }
 },
 "nbformat": 4,
 "nbformat_minor": 2
}
